{
 "cells": [
  {
   "cell_type": "code",
   "execution_count": 1,
   "metadata": {},
   "outputs": [],
   "source": [
    "import os\n",
    "import numpy as np\n",
    "import pandas as pd\n",
    "import matplotlib.pyplot as plt\n",
    "import seaborn as sns"
   ]
  },
  {
   "cell_type": "code",
   "execution_count": 2,
   "metadata": {},
   "outputs": [],
   "source": [
    "DATA_DIR = os.path.join(\".\", \"data\\cs-train\")"
   ]
  },
  {
   "cell_type": "code",
   "execution_count": 3,
   "metadata": {},
   "outputs": [
    {
     "data": {
      "text/html": [
       "<div>\n",
       "<style scoped>\n",
       "    .dataframe tbody tr th:only-of-type {\n",
       "        vertical-align: middle;\n",
       "    }\n",
       "\n",
       "    .dataframe tbody tr th {\n",
       "        vertical-align: top;\n",
       "    }\n",
       "\n",
       "    .dataframe thead th {\n",
       "        text-align: right;\n",
       "    }\n",
       "</style>\n",
       "<table border=\"1\" class=\"dataframe\">\n",
       "  <thead>\n",
       "    <tr style=\"text-align: right;\">\n",
       "      <th></th>\n",
       "      <th>date</th>\n",
       "      <th>price</th>\n",
       "      <th>times_viewed</th>\n",
       "      <th>stream_id</th>\n",
       "      <th>country</th>\n",
       "      <th>customer_id</th>\n",
       "      <th>invoice</th>\n",
       "    </tr>\n",
       "  </thead>\n",
       "  <tbody>\n",
       "    <tr>\n",
       "      <th>0</th>\n",
       "      <td>2017-11-28</td>\n",
       "      <td>6.95</td>\n",
       "      <td>12</td>\n",
       "      <td>85048</td>\n",
       "      <td>United Kingdom</td>\n",
       "      <td>13085.0</td>\n",
       "      <td>489434</td>\n",
       "    </tr>\n",
       "    <tr>\n",
       "      <th>1</th>\n",
       "      <td>2017-11-28</td>\n",
       "      <td>8.65</td>\n",
       "      <td>1</td>\n",
       "      <td>22130</td>\n",
       "      <td>United Kingdom</td>\n",
       "      <td>NaN</td>\n",
       "      <td>489597</td>\n",
       "    </tr>\n",
       "    <tr>\n",
       "      <th>2</th>\n",
       "      <td>2017-11-28</td>\n",
       "      <td>1.70</td>\n",
       "      <td>6</td>\n",
       "      <td>22132</td>\n",
       "      <td>United Kingdom</td>\n",
       "      <td>NaN</td>\n",
       "      <td>489597</td>\n",
       "    </tr>\n",
       "    <tr>\n",
       "      <th>3</th>\n",
       "      <td>2017-11-28</td>\n",
       "      <td>1.70</td>\n",
       "      <td>4</td>\n",
       "      <td>22133</td>\n",
       "      <td>United Kingdom</td>\n",
       "      <td>NaN</td>\n",
       "      <td>489597</td>\n",
       "    </tr>\n",
       "    <tr>\n",
       "      <th>4</th>\n",
       "      <td>2017-11-28</td>\n",
       "      <td>0.87</td>\n",
       "      <td>1</td>\n",
       "      <td>22134</td>\n",
       "      <td>United Kingdom</td>\n",
       "      <td>NaN</td>\n",
       "      <td>489597</td>\n",
       "    </tr>\n",
       "  </tbody>\n",
       "</table>\n",
       "</div>"
      ],
      "text/plain": [
       "        date  price  times_viewed stream_id         country customer_id  \\\n",
       "0 2017-11-28   6.95            12     85048  United Kingdom     13085.0   \n",
       "1 2017-11-28   8.65             1     22130  United Kingdom         NaN   \n",
       "2 2017-11-28   1.70             6     22132  United Kingdom         NaN   \n",
       "3 2017-11-28   1.70             4     22133  United Kingdom         NaN   \n",
       "4 2017-11-28   0.87             1     22134  United Kingdom         NaN   \n",
       "\n",
       "  invoice  \n",
       "0  489434  \n",
       "1  489597  \n",
       "2  489597  \n",
       "3  489597  \n",
       "4  489597  "
      ]
     },
     "execution_count": 3,
     "metadata": {},
     "output_type": "execute_result"
    }
   ],
   "source": [
    "df = pd.DataFrame()\n",
    "\n",
    "data_filenames = [f for f in os.listdir(DATA_DIR) if os.path.isfile(os.path.join(DATA_DIR, f))]\n",
    "data_filenames = sorted(data_filenames)\n",
    "\n",
    "for filename in data_filenames:\n",
    "    invoice_filename = os.path.join(DATA_DIR, filename)\n",
    "    invoice_df = pd.read_json(invoice_filename)\n",
    "    \n",
    "    # Rename column names where applicable\n",
    "    invoice_df = invoice_df.rename(columns={\n",
    "        'total_price': 'price',\n",
    "        'StreamID': 'stream_id',\n",
    "        'TimesViewed': 'times_viewed'\n",
    "    })\n",
    "    \n",
    "    df = df.append(invoice_df)\n",
    "\n",
    "# Convert year, month, day to a datetime column\n",
    "df[\"date\"] = pd.to_datetime(df.year*10000 + df.month*100 + df.day, format='%Y%m%d')\n",
    "df = df.drop(columns=['year', 'month', 'day'])\n",
    "\n",
    "# Set country to a categorical type\n",
    "df['country'] = df['country'].astype('category')\n",
    "df['invoice'] = df['invoice'].astype('category')\n",
    "df['customer_id'] = df['customer_id'].astype('category')\n",
    "df['stream_id'] = df['stream_id'].astype('category')\n",
    "\n",
    "# Reorder columns\n",
    "df = df[['date', 'price', 'times_viewed', 'stream_id', 'country', 'customer_id', 'invoice']]\n",
    "\n",
    "# Remove outliers\n",
    "df = df[df['price'].between(df['price'].quantile(0.02), df['price'].quantile(0.98))]\n",
    "    \n",
    "df.head()"
   ]
  },
  {
   "cell_type": "code",
   "execution_count": 4,
   "metadata": {},
   "outputs": [],
   "source": [
    "# checking missing data percentage in train data \n",
    "def missing_data(data):\n",
    "    total = data.isnull().sum().sort_values(ascending=False)\n",
    "    percent = (data.isnull().sum()/data.isnull().count()*100).sort_values(ascending=False)\n",
    "    missing_data = pd.concat([total[total > 0], percent[percent > 0]], axis=1, keys=['Total', 'Percent'])\n",
    "    return missing_data"
   ]
  },
  {
   "cell_type": "code",
   "execution_count": 5,
   "metadata": {},
   "outputs": [
    {
     "data": {
      "text/html": [
       "<div>\n",
       "<style scoped>\n",
       "    .dataframe tbody tr th:only-of-type {\n",
       "        vertical-align: middle;\n",
       "    }\n",
       "\n",
       "    .dataframe tbody tr th {\n",
       "        vertical-align: top;\n",
       "    }\n",
       "\n",
       "    .dataframe thead th {\n",
       "        text-align: right;\n",
       "    }\n",
       "</style>\n",
       "<table border=\"1\" class=\"dataframe\">\n",
       "  <thead>\n",
       "    <tr style=\"text-align: right;\">\n",
       "      <th></th>\n",
       "      <th>Total</th>\n",
       "      <th>Percent</th>\n",
       "    </tr>\n",
       "  </thead>\n",
       "  <tbody>\n",
       "    <tr>\n",
       "      <th>customer_id</th>\n",
       "      <td>174528</td>\n",
       "      <td>22.293214</td>\n",
       "    </tr>\n",
       "  </tbody>\n",
       "</table>\n",
       "</div>"
      ],
      "text/plain": [
       "              Total    Percent\n",
       "customer_id  174528  22.293214"
      ]
     },
     "execution_count": 5,
     "metadata": {},
     "output_type": "execute_result"
    }
   ],
   "source": [
    "missing_data(df)"
   ]
  },
  {
   "cell_type": "code",
   "execution_count": 6,
   "metadata": {},
   "outputs": [
    {
     "data": {
      "text/plain": [
       "<matplotlib.axes._subplots.AxesSubplot at 0x1c70a51fac8>"
      ]
     },
     "execution_count": 6,
     "metadata": {},
     "output_type": "execute_result"
    },
    {
     "data": {
      "image/png": "[encoded data removed]",
      "text/plain": [
       "<Figure size 432x288 with 1 Axes>"
      ]
     },
     "metadata": {
      "needs_background": "light"
     },
     "output_type": "display_data"
    }
   ],
   "source": [
    "# Plot \n",
    "df['price'].plot(kind='hist')"
   ]
  },
  {
   "cell_type": "code",
   "execution_count": 7,
   "metadata": {},
   "outputs": [
    {
     "data": {
      "text/plain": [
       "537434    1298\n",
       "538071    1250\n",
       "537638    1170\n",
       "537823    1148\n",
       "536876    1146\n",
       "          ... \n",
       "499154       0\n",
       "551459       0\n",
       "499156       0\n",
       "499157       0\n",
       "525339       0\n",
       "Name: invoice, Length: 42646, dtype: int64"
      ]
     },
     "execution_count": 7,
     "metadata": {},
     "output_type": "execute_result"
    }
   ],
   "source": [
    "df['invoice'].value_counts()"
   ]
  },
  {
   "cell_type": "code",
   "execution_count": 8,
   "metadata": {},
   "outputs": [
    {
     "data": {
      "text/plain": [
       "<matplotlib.axes._subplots.AxesSubplot at 0x1c70ff6ff88>"
      ]
     },
     "execution_count": 8,
     "metadata": {},
     "output_type": "execute_result"
    },
    {
     "data": {
      "image/png": "[encoded data removed]",
      "text/plain": [
       "<Figure size 432x288 with 1 Axes>"
      ]
     },
     "metadata": {
      "needs_background": "light"
     },
     "output_type": "display_data"
    }
   ],
   "source": [
    "sns.distplot(df['price'], bins=10)"
   ]
  },
  {
   "cell_type": "code",
   "execution_count": 9,
   "metadata": {},
   "outputs": [
    {
     "data": {
      "image/png": "[encoded data removed]",
      "text/plain": [
       "<Figure size 864x432 with 2 Axes>"
      ]
     },
     "metadata": {
      "needs_background": "light"
     },
     "output_type": "display_data"
    }
   ],
   "source": [
    "# Correlation \n",
    "plt.figure(figsize=(12, 6))\n",
    "corr = df.apply(lambda x: pd.factorize(x)[0]).corr()\n",
    "ax = sns.heatmap(corr, xticklabels=corr.columns, yticklabels=corr.columns, linewidths=.2, cmap=\"YlGnBu\")"
   ]
  },
  {
   "cell_type": "code",
   "execution_count": 10,
   "metadata": {},
   "outputs": [
    {
     "data": {
      "image/png": "[encoded data removed]",
      "text/plain": [
       "<Figure size 360x360 with 1 Axes>"
      ]
     },
     "metadata": {
      "needs_background": "light"
     },
     "output_type": "display_data"
    }
   ],
   "source": [
    "g = sns.relplot(x='date', y='price', data=df.groupby(pd.Grouper(key='date', freq='B')).sum().reset_index(), kind='line')\n",
    "g.fig.autofmt_xdate()"
   ]
  },
  {
   "cell_type": "code",
   "execution_count": 11,
   "metadata": {},
   "outputs": [
    {
     "data": {
      "text/html": [
       "<div>\n",
       "<style scoped>\n",
       "    .dataframe tbody tr th:only-of-type {\n",
       "        vertical-align: middle;\n",
       "    }\n",
       "\n",
       "    .dataframe tbody tr th {\n",
       "        vertical-align: top;\n",
       "    }\n",
       "\n",
       "    .dataframe thead th {\n",
       "        text-align: right;\n",
       "    }\n",
       "</style>\n",
       "<table border=\"1\" class=\"dataframe\">\n",
       "  <thead>\n",
       "    <tr style=\"text-align: right;\">\n",
       "      <th></th>\n",
       "      <th>country</th>\n",
       "      <th>revenue</th>\n",
       "    </tr>\n",
       "  </thead>\n",
       "  <tbody>\n",
       "    <tr>\n",
       "      <th>0</th>\n",
       "      <td>United Kingdom</td>\n",
       "      <td>2.293894e+06</td>\n",
       "    </tr>\n",
       "    <tr>\n",
       "      <th>1</th>\n",
       "      <td>EIRE</td>\n",
       "      <td>4.399854e+04</td>\n",
       "    </tr>\n",
       "    <tr>\n",
       "      <th>2</th>\n",
       "      <td>Germany</td>\n",
       "      <td>3.425095e+04</td>\n",
       "    </tr>\n",
       "    <tr>\n",
       "      <th>3</th>\n",
       "      <td>France</td>\n",
       "      <td>2.401081e+04</td>\n",
       "    </tr>\n",
       "    <tr>\n",
       "      <th>4</th>\n",
       "      <td>Netherlands</td>\n",
       "      <td>8.428490e+03</td>\n",
       "    </tr>\n",
       "  </tbody>\n",
       "</table>\n",
       "</div>"
      ],
      "text/plain": [
       "          country       revenue\n",
       "0  United Kingdom  2.293894e+06\n",
       "1            EIRE  4.399854e+04\n",
       "2         Germany  3.425095e+04\n",
       "3          France  2.401081e+04\n",
       "4     Netherlands  8.428490e+03"
      ]
     },
     "execution_count": 11,
     "metadata": {},
     "output_type": "execute_result"
    }
   ],
   "source": [
    "revenue_by_country = df[['country', 'price']].groupby('country').sum().sort_values('price', ascending=False)\n",
    "revenue_by_country = revenue_by_country.rename(columns={'price': 'revenue'})\n",
    "revenue_by_country = revenue_by_country.reset_index()\n",
    "revenue_by_country.head()"
   ]
  },
  {
   "cell_type": "code",
   "execution_count": 12,
   "metadata": {},
   "outputs": [
    {
     "data": {
      "image/png": "[encoded data removed]",
      "text/plain": [
       "<Figure size 360x360 with 1 Axes>"
      ]
     },
     "metadata": {
      "needs_background": "light"
     },
     "output_type": "display_data"
    }
   ],
   "source": [
    "sns.catplot(x='country', y='revenue', data=revenue_by_country[:5], kind='bar')\n",
    "plt.show()"
   ]
  },
  {
   "cell_type": "code",
   "execution_count": 13,
   "metadata": {},
   "outputs": [
    {
     "data": {
      "text/plain": [
       "United Kingdom          722329\n",
       "EIRE                     12992\n",
       "Germany                  12593\n",
       "France                    9228\n",
       "Netherlands               3891\n",
       "Spain                     2483\n",
       "Switzerland               2221\n",
       "Belgium                   2008\n",
       "Portugal                  1743\n",
       "Australia                 1495\n",
       "Channel Islands           1221\n",
       "Sweden                    1089\n",
       "Italy                     1004\n",
       "Cyprus                     878\n",
       "Norway                     724\n",
       "Finland                    702\n",
       "Austria                    675\n",
       "Greece                     612\n",
       "Unspecified                599\n",
       "Denmark                    553\n",
       "Japan                      500\n",
       "United Arab Emirates       435\n",
       "Poland                     424\n",
       "Singapore                  291\n",
       "Hong Kong                  265\n",
       "USA                        263\n",
       "Canada                     212\n",
       "Malta                      210\n",
       "Iceland                    193\n",
       "Lithuania                  188\n",
       "Israel                     137\n",
       "Bahrain                    126\n",
       "RSA                        109\n",
       "Brazil                      93\n",
       "Thailand                    76\n",
       "Korea                       62\n",
       "European Community          58\n",
       "Lebanon                     56\n",
       "West Indies                 47\n",
       "Bermuda                     32\n",
       "Nigeria                     31\n",
       "Czech Republic              17\n",
       "Saudi Arabia                10\n",
       "Name: country, dtype: int64"
      ]
     },
     "execution_count": 13,
     "metadata": {},
     "output_type": "execute_result"
    }
   ],
   "source": [
    "df['country'].value_counts()"
   ]
  }
 ],
 "metadata": {
  "kernelspec": {
   "display_name": "Python 3",
   "language": "python",
   "name": "python3"
  },
  "language_info": {
   "codemirror_mode": {
    "name": "ipython",
    "version": 3
   },
   "file_extension": ".py",
   "mimetype": "text/x-python",
   "name": "python",
   "nbconvert_exporter": "python",
   "pygments_lexer": "ipython3",
   "version": "3.7.6"
  }
 },
 "nbformat": 4,
 "nbformat_minor": 4
}
